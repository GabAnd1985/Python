{
 "cells": [
  {
   "cell_type": "markdown",
   "metadata": {},
   "source": [
    "# Método format en Strings"
   ]
  },
  {
   "cell_type": "code",
   "execution_count": 5,
   "metadata": {},
   "outputs": [
    {
     "name": "stdout",
     "output_type": "stream",
     "text": [
      "Hello Rodney your score is -1\n",
      "Hello Marlon your score is 1\n",
      "Hello you your score is 100\n"
     ]
    }
   ],
   "source": [
    "scores= [(\"Rodney\", -1), (\"Marlon\", 1), (\"you\", 100)]\n",
    "\n",
    "for person in scores:\n",
    "    name= person[0]\n",
    "    score= person[1]\n",
    "    \n",
    "    print(\"Hello \" + name + \" your score is \" + str(score))"
   ]
  },
  {
   "cell_type": "markdown",
   "metadata": {},
   "source": [
    "Esto se puede simplificar de la siguiente manera:"
   ]
  },
  {
   "cell_type": "code",
   "execution_count": 6,
   "metadata": {},
   "outputs": [
    {
     "name": "stdout",
     "output_type": "stream",
     "text": [
      "Hello Rodney your score is -1\n",
      "Hello Marlon your score is 1\n",
      "Hello you your score is 100\n"
     ]
    }
   ],
   "source": [
    "for person in scores:\n",
    "    name= person[0]\n",
    "    score= person[1]\n",
    "    \n",
    "    print(\"Hello {} your score is {}\".format(name, score))"
   ]
  },
  {
   "cell_type": "markdown",
   "metadata": {},
   "source": [
    "### Otro ejemplo:"
   ]
  },
  {
   "cell_type": "code",
   "execution_count": 8,
   "metadata": {},
   "outputs": [
    {
     "name": "stdout",
     "output_type": "stream",
     "text": [
      "original price: 100\n",
      "discount: 25\n",
      "$ 100.00 discounted by 25.0% is $75.0\n"
     ]
    }
   ],
   "source": [
    "origprice= float(input(\"original price: \"))\n",
    "\n",
    "discount= float(input(\"discount: \"))\n",
    "\n",
    "newprice= (1 - discount/100) * origprice\n",
    "\n",
    "calculation= \"$ {:.2f} discounted by {}% is ${}\".format(origprice, discount, newprice)\n",
    "\n",
    "print(calculation)"
   ]
  },
  {
   "cell_type": "markdown",
   "metadata": {},
   "source": [
    "\"f\" significa floating points\n",
    ".2  significa que quiero agregar sólo dos decimales"
   ]
  },
  {
   "cell_type": "markdown",
   "metadata": {},
   "source": [
    "### Otra forma"
   ]
  },
  {
   "cell_type": "code",
   "execution_count": 9,
   "metadata": {},
   "outputs": [],
   "source": [
    "name= \"sally\"\n",
    "\n",
    "greeting= \"Nice to meet you\"\n",
    "\n",
    "s= \"Hello, {}. {}\""
   ]
  },
  {
   "cell_type": "code",
   "execution_count": 10,
   "metadata": {},
   "outputs": [
    {
     "name": "stdout",
     "output_type": "stream",
     "text": [
      "Hello, sally. Nice to meet you\n"
     ]
    }
   ],
   "source": [
    "print(s.format(name, greeting))"
   ]
  },
  {
   "cell_type": "code",
   "execution_count": 11,
   "metadata": {},
   "outputs": [
    {
     "name": "stdout",
     "output_type": "stream",
     "text": [
      "Hello, Nice to meet you. sally\n"
     ]
    }
   ],
   "source": [
    "print(s.format(greeting, name))"
   ]
  }
 ],
 "metadata": {
  "kernelspec": {
   "display_name": "Python 3",
   "language": "python",
   "name": "python3"
  },
  "language_info": {
   "codemirror_mode": {
    "name": "ipython",
    "version": 3
   },
   "file_extension": ".py",
   "mimetype": "text/x-python",
   "name": "python",
   "nbconvert_exporter": "python",
   "pygments_lexer": "ipython3",
   "version": "3.7.6"
  }
 },
 "nbformat": 4,
 "nbformat_minor": 4
}
