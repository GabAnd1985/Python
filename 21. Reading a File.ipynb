{
 "cells": [
  {
   "cell_type": "markdown",
   "metadata": {},
   "source": [
    "# Reading a File"
   ]
  },
  {
   "cell_type": "markdown",
   "metadata": {},
   "source": [
    "## read()"
   ]
  },
  {
   "cell_type": "markdown",
   "metadata": {},
   "source": [
    "Un file contiene datos que persisten entre las ejecuciones de programas.\n",
    "\n",
    "En Python debemos abrir archivos para poder usarlos, y cerrarlos cuando dejamos de trabajar con ellos.\n",
    "\n",
    "Una vez abierto, un file se convierte en un objeto."
   ]
  },
  {
   "cell_type": "markdown",
   "metadata": {},
   "source": [
    "Un file es una colección de datos salvados en el disco duro u otro medio, que persiste en el tiempo.\n",
    "\n",
    "Tiene un nombre y puede ser organizado en folders (carpetas) o directorios."
   ]
  },
  {
   "cell_type": "code",
   "execution_count": 1,
   "metadata": {},
   "outputs": [],
   "source": [
    "fileref= open(\"olympics.txt\", \"r\")  #la \"r\" significa que sólo vamos a leerlo"
   ]
  },
  {
   "cell_type": "markdown",
   "metadata": {},
   "source": [
    "Con este código sólo creamos el archivo, no vamos a poder leerlo."
   ]
  },
  {
   "cell_type": "markdown",
   "metadata": {},
   "source": [
    "Para cerrarlo:"
   ]
  },
  {
   "cell_type": "code",
   "execution_count": 4,
   "metadata": {},
   "outputs": [],
   "source": [
    "fileref.close()"
   ]
  },
  {
   "cell_type": "markdown",
   "metadata": {},
   "source": [
    "Para poder ver el archivo una vez abierto tenemos que hacer lo siguiente:"
   ]
  },
  {
   "cell_type": "code",
   "execution_count": 16,
   "metadata": {},
   "outputs": [
    {
     "name": "stdout",
     "output_type": "stream",
     "text": [
      "Olimpiada u olimpÃ­ada1â€‹ es el periodo de, por regla general, cuatro aÃ±os que transcurre entre ca\n",
      "--------------\n",
      "<class 'str'>\n"
     ]
    }
   ],
   "source": [
    "fileref= open(\"olympics.txt\", \"r\")\n",
    "\n",
    "contents= fileref.read()\n",
    "\n",
    "print(contents[:100])   #le damos la indicación de que sólo imprima los primeros 100 caracteres\n",
    "\n",
    "print(\"--------------\")\n",
    "\n",
    "print(type(contents))"
   ]
  },
  {
   "cell_type": "markdown",
   "metadata": {},
   "source": [
    "Este método nos devuelve todo el archivo como una big string, raramente se usa "
   ]
  },
  {
   "cell_type": "markdown",
   "metadata": {},
   "source": [
    "## readlines()"
   ]
  },
  {
   "cell_type": "code",
   "execution_count": 15,
   "metadata": {},
   "outputs": [
    {
     "name": "stdout",
     "output_type": "stream",
     "text": [
      "['Olimpiada u olimpÃ\\xadada1â€‹ es el periodo de, por regla general, cuatro aÃ±os que transcurre entre cada ediciÃ³n de los Juegos OlÃ\\xadmpicos, si bien en castellano y otras lenguas es comÃºn el uso de esta palabra para designar a los propios juegos, como sinÃ³nimo, sentido que recoge el Diccionario acadÃ©mico desde 1884 (y desde 1803 en la variante grÃ¡fica olimpiade).\\n', 'La cronologÃ\\xada basada en los juegos data de la Ã©poca de Alejandro Magno y la introdujo posiblemente Ã‰foro de Cime o Timeo de Tauromenio en el s. IV-III a. C. Estuvo en uso hasta la Edad Media. SegÃºn san Isidoro en las EtimologÃ\\xadas, el nombre de olimpiada para el periodo procede de los juegos.\\n', 'En su sentido originario era una unidad de tiempo usada en la Antigua Grecia desde los primeros Juegos OlÃ\\xadmpicos en 776 a. C., por lo que la primera olimpÃ\\xadada durÃ³ del 776 a. C. al 772 a. C.. Por ejemplo, TucÃ\\xaddides en su Historia de la Guerra del Peloponeso (libro III, capÃ\\xadtulo VIII) menciona un acontecimiento que tuvo lugar durante Â«la olimpiada en la cual Dorieo de Rodas obtuvo su segunda victoriaÂ». (VÃ©ase Juegos OlÃ\\xadmpicos Antiguos).\\n', 'Extrapolando, los Juegos OlÃ\\xadmpicos de Tokio 2020 corresponden, tal como indica su nombre oficial, Juegos de la XXXII Olimpiada, a los trigesimosegundos Juegos OlÃ\\xadmpicos de la era contemporÃ¡nea.\\n']\n",
      "--------------\n",
      "<class 'list'>\n",
      "--------------\n",
      "6\n"
     ]
    }
   ],
   "source": [
    "fileref= open(\"olympics.txt\", \"r\")\n",
    "\n",
    "lines= fileref.readlines()\n",
    "\n",
    "print(lines[:4])\n",
    "\n",
    "print(\"--------------\")\n",
    "\n",
    "print(type(lines))\n",
    "\n",
    "print(\"--------------\")\n",
    "\n",
    "print(len(lines))\n",
    "\n",
    "fileref.close()"
   ]
  },
  {
   "cell_type": "markdown",
   "metadata": {},
   "source": [
    "Este método lo que hace es devolvernos una lista de strings. Una string por cada línea.\n",
    "\n",
    "El símbolo \"\\n\" implica el comienzo de una nueva línea."
   ]
  },
  {
   "cell_type": "markdown",
   "metadata": {},
   "source": [
    "Puedo iterar sobre la lista:"
   ]
  },
  {
   "cell_type": "code",
   "execution_count": 20,
   "metadata": {},
   "outputs": [
    {
     "name": "stdout",
     "output_type": "stream",
     "text": [
      "Olimpiada u olimpÃ­ada1â€‹ es el periodo de, por regla general, cuatro aÃ±os que transcurre entre cada ediciÃ³n de los Juegos OlÃ­mpicos, si bien en castellano y otras lenguas es comÃºn el uso de esta palabra para designar a los propios juegos, como sinÃ³nimo, sentido que recoge el Diccionario acadÃ©mico desde 1884 (y desde 1803 en la variante grÃ¡fica olimpiade).\n",
      "\n",
      "La cronologÃ­a basada en los juegos data de la Ã©poca de Alejandro Magno y la introdujo posiblemente Ã‰foro de Cime o Timeo de Tauromenio en el s. IV-III a. C. Estuvo en uso hasta la Edad Media. SegÃºn san Isidoro en las EtimologÃ­as, el nombre de olimpiada para el periodo procede de los juegos.\n",
      "\n",
      "En su sentido originario era una unidad de tiempo usada en la Antigua Grecia desde los primeros Juegos OlÃ­mpicos en 776 a. C., por lo que la primera olimpÃ­ada durÃ³ del 776 a. C. al 772 a. C.. Por ejemplo, TucÃ­dides en su Historia de la Guerra del Peloponeso (libro III, capÃ­tulo VIII) menciona un acontecimiento que tuvo lugar durante Â«la olimpiada en la cual Dorieo de Rodas obtuvo su segunda victoriaÂ». (VÃ©ase Juegos OlÃ­mpicos Antiguos).\n",
      "\n",
      "Extrapolando, los Juegos OlÃ­mpicos de Tokio 2020 corresponden, tal como indica su nombre oficial, Juegos de la XXXII Olimpiada, a los trigesimosegundos Juegos OlÃ­mpicos de la era contemporÃ¡nea.\n",
      "\n"
     ]
    }
   ],
   "source": [
    "fileref= open(\"olympics.txt\", \"r\")\n",
    "\n",
    "lines= fileref.readlines()\n",
    "\n",
    "for line in lines[:4]:\n",
    "    print(line)\n",
    "    \n",
    "fileref.close()"
   ]
  },
  {
   "cell_type": "markdown",
   "metadata": {},
   "source": [
    "Vemos que deja un espacio entre cada línea. Podemos evitar esto de la siguiente manera:"
   ]
  },
  {
   "cell_type": "code",
   "execution_count": 21,
   "metadata": {},
   "outputs": [
    {
     "name": "stdout",
     "output_type": "stream",
     "text": [
      "Olimpiada u olimpÃ­ada1â€‹ es el periodo de, por regla general, cuatro aÃ±os que transcurre entre cada ediciÃ³n de los Juegos OlÃ­mpicos, si bien en castellano y otras lenguas es comÃºn el uso de esta palabra para designar a los propios juegos, como sinÃ³nimo, sentido que recoge el Diccionario acadÃ©mico desde 1884 (y desde 1803 en la variante grÃ¡fica olimpiade).\n",
      "La cronologÃ­a basada en los juegos data de la Ã©poca de Alejandro Magno y la introdujo posiblemente Ã‰foro de Cime o Timeo de Tauromenio en el s. IV-III a. C. Estuvo en uso hasta la Edad Media. SegÃºn san Isidoro en las EtimologÃ­as, el nombre de olimpiada para el periodo procede de los juegos.\n",
      "En su sentido originario era una unidad de tiempo usada en la Antigua Grecia desde los primeros Juegos OlÃ­mpicos en 776 a. C., por lo que la primera olimpÃ­ada durÃ³ del 776 a. C. al 772 a. C.. Por ejemplo, TucÃ­dides en su Historia de la Guerra del Peloponeso (libro III, capÃ­tulo VIII) menciona un acontecimiento que tuvo lugar durante Â«la olimpiada en la cual Dorieo de Rodas obtuvo su segunda victoriaÂ». (VÃ©ase Juegos OlÃ­mpicos Antiguos).\n",
      "Extrapolando, los Juegos OlÃ­mpicos de Tokio 2020 corresponden, tal como indica su nombre oficial, Juegos de la XXXII Olimpiada, a los trigesimosegundos Juegos OlÃ­mpicos de la era contemporÃ¡nea.\n"
     ]
    }
   ],
   "source": [
    "fileref= open(\"olympics.txt\", \"r\")\n",
    "\n",
    "lines= fileref.readlines()\n",
    "\n",
    "for line in lines[:4]:\n",
    "    print(line.strip())\n",
    "    \n",
    "fileref.close()"
   ]
  },
  {
   "cell_type": "markdown",
   "metadata": {},
   "source": [
    "También podemos iterar directamente sobre el archivo:"
   ]
  },
  {
   "cell_type": "code",
   "execution_count": 22,
   "metadata": {},
   "outputs": [
    {
     "name": "stdout",
     "output_type": "stream",
     "text": [
      "Olimpiada u olimpÃ­ada1â€‹ es el periodo de, por regla general, cuatro aÃ±os que transcurre entre cada ediciÃ³n de los Juegos OlÃ­mpicos, si bien en castellano y otras lenguas es comÃºn el uso de esta palabra para designar a los propios juegos, como sinÃ³nimo, sentido que recoge el Diccionario acadÃ©mico desde 1884 (y desde 1803 en la variante grÃ¡fica olimpiade).\n",
      "La cronologÃ­a basada en los juegos data de la Ã©poca de Alejandro Magno y la introdujo posiblemente Ã‰foro de Cime o Timeo de Tauromenio en el s. IV-III a. C. Estuvo en uso hasta la Edad Media. SegÃºn san Isidoro en las EtimologÃ­as, el nombre de olimpiada para el periodo procede de los juegos.\n",
      "En su sentido originario era una unidad de tiempo usada en la Antigua Grecia desde los primeros Juegos OlÃ­mpicos en 776 a. C., por lo que la primera olimpÃ­ada durÃ³ del 776 a. C. al 772 a. C.. Por ejemplo, TucÃ­dides en su Historia de la Guerra del Peloponeso (libro III, capÃ­tulo VIII) menciona un acontecimiento que tuvo lugar durante Â«la olimpiada en la cual Dorieo de Rodas obtuvo su segunda victoriaÂ». (VÃ©ase Juegos OlÃ­mpicos Antiguos).\n",
      "Extrapolando, los Juegos OlÃ­mpicos de Tokio 2020 corresponden, tal como indica su nombre oficial, Juegos de la XXXII Olimpiada, a los trigesimosegundos Juegos OlÃ­mpicos de la era contemporÃ¡nea.\n",
      "TambiÃ©n se utiliza el tÃ©rmino Â«olimpiadaÂ» para designar competiciones en otros Ã¡mbitos no deportivos, en especial en los cientÃ­ficos, como serÃ­an la Olimpiada Internacional de GeografÃ­a o las Olimpiadas Nacionales o Internacionales de MatemÃ¡ticas.\n",
      "La FIDE organiza en forma similar, pero cada dos aÃ±os, las Olimpiadas de Ajedrez.\n"
     ]
    }
   ],
   "source": [
    "fileref= open(\"olympics.txt\", \"r\")\n",
    "\n",
    "for line in fileref:\n",
    "    print(line.strip())"
   ]
  },
  {
   "cell_type": "markdown",
   "metadata": {},
   "source": [
    "Hace lo mismo que el método anterior, pero en este caso no podemos hacer el slicing."
   ]
  },
  {
   "cell_type": "markdown",
   "metadata": {},
   "source": [
    "Existe un readline() y un readlines().\n",
    "El primero me devuelve la próxima línea de un archivo, el segundo una lista de strings de todo el archivo."
   ]
  },
  {
   "cell_type": "code",
   "execution_count": 25,
   "metadata": {},
   "outputs": [
    {
     "name": "stdout",
     "output_type": "stream",
     "text": [
      "Olimpiada u olimpÃ­ada1â€‹ es el periodo de, por regla general, cuatro aÃ±os que transcurre entre cada ediciÃ³n de los Juegos OlÃ­mpicos, si bien en castellano y otras lenguas es comÃºn el uso de esta palabra para designar a los propios juegos, como sinÃ³nimo, sentido que recoge el Diccionario acadÃ©mico desde 1884 (y desde 1803 en la variante grÃ¡fica olimpiade).\n",
      "\n"
     ]
    }
   ],
   "source": [
    "fileref= open(\"olympics.txt\", \"r\")\n",
    "\n",
    "lines= fileref.readline()\n",
    "\n",
    "print(lines)"
   ]
  },
  {
   "cell_type": "markdown",
   "metadata": {},
   "source": [
    "## With Open"
   ]
  },
  {
   "cell_type": "code",
   "execution_count": null,
   "metadata": {},
   "outputs": [],
   "source": [
    "with open(\"{}/MN908947.3_human.txt\".format(Ruta), \"r\") as human_genes:\n",
    "    for line in human_genes:\n",
    "        if \"[\" not in line:\n",
    "            human_seq= (human_seq + line).strip()"
   ]
  },
  {
   "cell_type": "markdown",
   "metadata": {},
   "source": [
    "Lo que le estoy diciendo es que concatene si no tiene el simbolo \"[\" y que elimine los espacios en blanco con el strip"
   ]
  },
  {
   "cell_type": "code",
   "execution_count": null,
   "metadata": {},
   "outputs": [],
   "source": []
  }
 ],
 "metadata": {
  "kernelspec": {
   "display_name": "Python 3",
   "language": "python",
   "name": "python3"
  },
  "language_info": {
   "codemirror_mode": {
    "name": "ipython",
    "version": 3
   },
   "file_extension": ".py",
   "mimetype": "text/x-python",
   "name": "python",
   "nbconvert_exporter": "python",
   "pygments_lexer": "ipython3",
   "version": "3.7.6"
  }
 },
 "nbformat": 4,
 "nbformat_minor": 4
}
