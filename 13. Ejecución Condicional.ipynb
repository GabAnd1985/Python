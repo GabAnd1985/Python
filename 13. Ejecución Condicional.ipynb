{
 "cells": [
  {
   "cell_type": "markdown",
   "metadata": {},
   "source": [
    "# Ejecución Condicional"
   ]
  },
  {
   "cell_type": "markdown",
   "metadata": {},
   "source": [
    "Nos permite correr un bloque de código si una secuencia es cierta."
   ]
  },
  {
   "cell_type": "code",
   "execution_count": 1,
   "metadata": {},
   "outputs": [
    {
     "name": "stdout",
     "output_type": "stream",
     "text": [
      "15 is odd\n"
     ]
    }
   ],
   "source": [
    "x= 15\n",
    "if x % 2==0:\n",
    "    print(x, \"is even\")\n",
    "else:\n",
    "    print(x, \"is odd\")"
   ]
  },
  {
   "cell_type": "markdown",
   "metadata": {},
   "source": [
    "Todo lo que está en el condicional debe tener sangría."
   ]
  },
  {
   "cell_type": "code",
   "execution_count": 3,
   "metadata": {},
   "outputs": [
    {
     "name": "stdout",
     "output_type": "stream",
     "text": [
      "you can apply to SI!\n"
     ]
    }
   ],
   "source": [
    "courses= [\"Engr 101\", \"SI 110\", \"SI 106\"]\n",
    "\n",
    "if \"SI 106\" in courses:\n",
    "    print(\"you can apply to SI!\")\n",
    "else:\n",
    "    print(\"you can not\")"
   ]
  },
  {
   "cell_type": "markdown",
   "metadata": {},
   "source": [
    "## Nested Conditionals"
   ]
  },
  {
   "cell_type": "markdown",
   "metadata": {},
   "source": [
    "Podemos tener un condicional dentro de otro condicional:"
   ]
  },
  {
   "cell_type": "code",
   "execution_count": 4,
   "metadata": {},
   "outputs": [
    {
     "name": "stdout",
     "output_type": "stream",
     "text": [
      "x debe ser igual a y\n"
     ]
    }
   ],
   "source": [
    "x= 10\n",
    "\n",
    "y= 10\n",
    "\n",
    "if x < y:\n",
    "    print(\"x es menor a y\")\n",
    "else:\n",
    "    if x > y:\n",
    "        print(\"x es mayor a y\")\n",
    "    else:\n",
    "        print(\"x debe ser igual a y\")"
   ]
  },
  {
   "cell_type": "markdown",
   "metadata": {},
   "source": [
    "Lo mismo se puede hacer con un \"elif\" (else if):"
   ]
  },
  {
   "cell_type": "code",
   "execution_count": 6,
   "metadata": {},
   "outputs": [
    {
     "name": "stdout",
     "output_type": "stream",
     "text": [
      "x debe ser igual a y\n"
     ]
    }
   ],
   "source": [
    "if x < y:\n",
    "    print(\"x es menor a y\")\n",
    "elif x > y:\n",
    "    print(\"x es mayor a y\")\n",
    "else:\n",
    "    print(\"x debe ser igual a y\")"
   ]
  },
  {
   "cell_type": "markdown",
   "metadata": {},
   "source": [
    "# El Accumulator Pattern con condicionales"
   ]
  },
  {
   "cell_type": "code",
   "execution_count": 7,
   "metadata": {},
   "outputs": [
    {
     "name": "stdout",
     "output_type": "stream",
     "text": [
      "31\n"
     ]
    }
   ],
   "source": [
    "phrase= \"what a wonderful day to program\"\n",
    "\n",
    "tot= 0\n",
    "\n",
    "for char in phrase:\n",
    "    if char != \"\":\n",
    "        tot= tot + 1\n",
    "        \n",
    "print(tot)"
   ]
  },
  {
   "cell_type": "markdown",
   "metadata": {},
   "source": [
    "Para seleccionar el número más alto:"
   ]
  },
  {
   "cell_type": "code",
   "execution_count": 8,
   "metadata": {},
   "outputs": [
    {
     "name": "stdout",
     "output_type": "stream",
     "text": [
      "29\n"
     ]
    }
   ],
   "source": [
    "nums= [9, 3, 8, 11, 5, 29, 2]\n",
    "\n",
    "best_num= 0\n",
    "\n",
    "for n in nums:\n",
    "    if n > best_num:\n",
    "        best_num= n\n",
    "        \n",
    "print(best_num)"
   ]
  }
 ],
 "metadata": {
  "kernelspec": {
   "display_name": "Python 3",
   "language": "python",
   "name": "python3"
  },
  "language_info": {
   "codemirror_mode": {
    "name": "ipython",
    "version": 3
   },
   "file_extension": ".py",
   "mimetype": "text/x-python",
   "name": "python",
   "nbconvert_exporter": "python",
   "pygments_lexer": "ipython3",
   "version": "3.7.6"
  }
 },
 "nbformat": 4,
 "nbformat_minor": 4
}
