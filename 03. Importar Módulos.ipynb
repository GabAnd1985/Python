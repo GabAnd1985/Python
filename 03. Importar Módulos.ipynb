{
 "cells": [
  {
   "cell_type": "markdown",
   "metadata": {},
   "source": [
    "# Importar Módulos"
   ]
  },
  {
   "cell_type": "markdown",
   "metadata": {},
   "source": [
    "Básicamente, hay funciones que están en el core de Python como ser \"len()\", otras no están en el core, se encuentran en módulos que deben ser importados."
   ]
  },
  {
   "cell_type": "markdown",
   "metadata": {},
   "source": [
    "Un módulo es un código que define funciones que pueden ser usadas por otros programas."
   ]
  },
  {
   "cell_type": "markdown",
   "metadata": {},
   "source": [
    "El \"import\" statement lo que hace es decirle a python que deje disponible ese módulo. Ejemplo:"
   ]
  },
  {
   "cell_type": "code",
   "execution_count": 2,
   "metadata": {},
   "outputs": [],
   "source": [
    "import random # procedemos a importar para usar las funciones del módulo."
   ]
  },
  {
   "cell_type": "code",
   "execution_count": 4,
   "metadata": {},
   "outputs": [
    {
     "name": "stdout",
     "output_type": "stream",
     "text": [
      "0.3392182654885386\n"
     ]
    }
   ],
   "source": [
    "prob= random.random()  # devuelve un floating number de 0 a 1.\n",
    "\n",
    "print(prob)"
   ]
  },
  {
   "cell_type": "markdown",
   "metadata": {},
   "source": [
    "Observar que se llama primero el módulo y luego la función, separados por un punto."
   ]
  },
  {
   "cell_type": "code",
   "execution_count": 6,
   "metadata": {},
   "outputs": [
    {
     "name": "stdout",
     "output_type": "stream",
     "text": [
      "3\n"
     ]
    }
   ],
   "source": [
    "diceThrow= random.randrange(1,7)  #devuelve un número integer, desde 1 hasta 7 pero no incluido el 7\n",
    "\n",
    "print(diceThrow)"
   ]
  },
  {
   "cell_type": "markdown",
   "metadata": {},
   "source": [
    "Hay otra forma de importar, por la cual no tenemos que hacer contínua referencia al módulo al cual nos referimos:"
   ]
  },
  {
   "cell_type": "code",
   "execution_count": 11,
   "metadata": {},
   "outputs": [
    {
     "name": "stdout",
     "output_type": "stream",
     "text": [
      "0.7491381982123179\n",
      "5\n"
     ]
    }
   ],
   "source": [
    "from random import random, randrange\n",
    "\n",
    "prob= random()\n",
    "print(prob)\n",
    "\n",
    "diceThrow= randrange(1,7)\n",
    "print(diceThrow)"
   ]
  },
  {
   "cell_type": "markdown",
   "metadata": {},
   "source": [
    "También se puede poner un alias al módulo:"
   ]
  },
  {
   "cell_type": "code",
   "execution_count": 9,
   "metadata": {},
   "outputs": [],
   "source": [
    "import pandas as pd"
   ]
  },
  {
   "cell_type": "markdown",
   "metadata": {},
   "source": [
    "Por ejemplo, si hablamos del atributo title de la variable student:\n",
    "\n",
    "- student.title: title en este caso no es un método.\n",
    "- student.title(): en este caso es un método."
   ]
  }
 ],
 "metadata": {
  "kernelspec": {
   "display_name": "Python 3",
   "language": "python",
   "name": "python3"
  },
  "language_info": {
   "codemirror_mode": {
    "name": "ipython",
    "version": 3
   },
   "file_extension": ".py",
   "mimetype": "text/x-python",
   "name": "python",
   "nbconvert_exporter": "python",
   "pygments_lexer": "ipython3",
   "version": "3.7.6"
  }
 },
 "nbformat": 4,
 "nbformat_minor": 4
}
